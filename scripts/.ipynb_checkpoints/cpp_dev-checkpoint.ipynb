{
 "cells": [
  {
   "cell_type": "code",
   "execution_count": 1,
   "id": "33bfb1e7",
   "metadata": {},
   "outputs": [],
   "source": [
    "#!/usr/bin/env python"
   ]
  },
  {
   "cell_type": "code",
   "execution_count": 54,
   "id": "9a7bbf74",
   "metadata": {},
   "outputs": [],
   "source": [
    "import rospy\n",
    "import numpy as np\n",
    "import matplotlib\n",
    "import random"
   ]
  },
  {
   "cell_type": "code",
   "execution_count": 3,
   "id": "e8c9c669",
   "metadata": {},
   "outputs": [],
   "source": [
    "class world:\n",
    "    \n",
    "    def __init__(self,canvas,agent_pose = [0,0,0],agent_dimension = [1,1]):\n",
    "        \n",
    "        self.get_m()\n",
    "        \n",
    "        self.x_lim = canvas[0]\n",
    "        \n",
    "        self.y_lim = canvas[1]\n",
    "        \n",
    "        self.init_ros_services()\n",
    "\n",
    "    def get_m(self):\n",
    "\n",
    "        get_map = rospy.ServiceProxy('/static_map',GetMap)\n",
    "\n",
    "        mapa = get_map()\n",
    "\n",
    "        self.field = mapa.map.data\n",
    "\n",
    "        self.field = np.array(self.field,dtype=float)\n",
    "        \n",
    "        for i in range(len(self.field)):\n",
    "            \n",
    "            #print('value',self.field[i])\n",
    "            if self.field[i]== -1 or self.field[i]==100:\n",
    "                \n",
    "                self.field[i] = 1\n",
    "\n",
    "        self.obstacles = np.split(self.field,mapa.map.info.height,axis=0)\n",
    "\n",
    "        #print('obstaculo',self.obstacles)\n",
    "\n",
    "        #print('largura',len(self.obstacles[0]),'altura',len(self.obstacles))\n",
    "\n",
    "        self.obstacles = np.array(self.obstacles,dtype=float)\n",
    "\n",
    "        pass\n",
    "        \n",
    "    \n",
    "    \n",
    "    def init_ros_services(self):\n",
    "        \n",
    "        ##self.get_components = rospy.ServiceProxy('/gazebo/get_world_properties',GetWorldProperties)\n",
    "        self.set_component = rospy.ServiceProxy('/gazebo/set_model_state',SetModelState)\n",
    "        self.get_model = rospy.ServiceProxy('/gazebo/get_model_state',GetModelState)\n",
    "        #self.get_map = rospy.ServiceProxy('/static_map',GetMapRequest)\n",
    "        #rospy.Subscriber('/map',OccupancyGrid,self.get_map_cb)\n",
    "        pass\n"
   ]
  },
  {
   "cell_type": "code",
   "execution_count": 4,
   "id": "435a7749",
   "metadata": {},
   "outputs": [],
   "source": [
    "\n",
    "class agent:\n",
    "    \n",
    "    def __init__(self,dimension,pose):\n",
    "        get_state = rospy.ServiceProxy('/gazebo/get_model_state', GetModelState)\n",
    "        self.pose = get_state('')\n",
    "        self.dimensions = dimension\n",
    "        pass\n",
    "\n",
    "class dijkstra:\n",
    "    def __init__(self,init_node,target_node,obstacles):\n",
    "        self.path = self.dijkstra_algorithm(init_node,target_node,obstacles)\n",
    "        pass\n",
    "    \n",
    "    def valid_node(self,node, size_of_grid):\n",
    "        \"\"\"Checks if node is within the grid boundaries.\"\"\"\n",
    "        if node[0] < 0 or node[0] >= size_of_grid:\n",
    "            return False\n",
    "        if node[1] < 0 or node[1] >= size_of_grid:\n",
    "            return False\n",
    "        return True\n",
    "\n",
    "    def up(self,node):\n",
    "        return (node[0]-1,node[1])\n",
    "\n",
    "    def down(self,node):\n",
    "        return (node[0]+1,node[1])\n",
    "\n",
    "    def left(self,node):\n",
    "        return (node[0],node[1]-1)\n",
    "\n",
    "    def right(self,node):\n",
    "        return (node[0],node[1]+1)\n",
    "\n",
    "    def backtrack(self,initial_node, desired_node, distances):\n",
    "        # idea start at the last node then choose the least number of steps to go back\n",
    "        # last node\n",
    "        path = [desired_node]\n",
    "\n",
    "        size_of_grid = distances.shape[0]\n",
    "\n",
    "        while True:\n",
    "            # check up down left right - choose the direction that has the least distance\n",
    "            potential_distances = []\n",
    "            potential_nodes = []\n",
    "\n",
    "            directions = [self.up,self.down,self.left,self.right]\n",
    "\n",
    "            for direction in directions:\n",
    "                node = direction(path[-1])\n",
    "                if self.valid_node(node, size_of_grid):\n",
    "                    potential_nodes.append(node)\n",
    "                    potential_distances.append(distances[node[0],node[1]])\n",
    "\n",
    "            least_distance_index = np.argmin(potential_distances)\n",
    "            path.append(potential_nodes[least_distance_index])\n",
    "\n",
    "            if path[-1][0] == initial_node[0] and path[-1][1] == initial_node[1]:\n",
    "                break\n",
    "\n",
    "        return list(reversed(path))\n",
    "\n",
    "    def dijkstra_algorithm(self,initial_node, desired_node, obstacles):\n",
    "        \"\"\"Dijkstras algorithm for finding the shortest path between two nodes in a graph.\n",
    "\n",
    "        Args:\n",
    "            initial_node (list): [row,col] coordinates of the initial node\n",
    "            desired_node (list): [row,col] coordinates of the desired node\n",
    "            obstacles (array 2d): 2d numpy array that contains any obstacles as 1s and free space as 0s\n",
    "\n",
    "        Returns:\n",
    "            list[list]: list of list of nodes that form the shortest path\n",
    "        \"\"\"\n",
    "        # initialize cost heuristic map\n",
    "        obstacles = obstacles.copy()\n",
    "        # obstacles should have very high cost, so we avoid them.\n",
    "        obstacles *= 1000\n",
    "        # normal tiles should have 1 cost (1 so we can backtrack)\n",
    "        obstacles += np.ones(obstacles.shape)\n",
    "        # source and destination are free\n",
    "        obstacles[initial_node[0],initial_node[1]] = 0\n",
    "        obstacles[desired_node[0],desired_node[1]] = 0\n",
    "\n",
    "\n",
    "        # initialize maps for distances and visited nodes\n",
    "        size_of_floor = obstacles.shape[0]\n",
    "\n",
    "        # we only want to visit nodes once\n",
    "        visited = np.zeros([size_of_floor,size_of_floor],bool)\n",
    "\n",
    "        # initiate matrix to keep track of distance to source node\n",
    "        # initial distance to nodes is infinity so we always get a lower actual distance\n",
    "        distances = np.ones([size_of_floor,size_of_floor]) * np.inf\n",
    "        # initial node has a distance of 0 to itself\n",
    "        distances[initial_node[0],initial_node[1]] = 0\n",
    "\n",
    "        # start algorithm\n",
    "        current_node = [initial_node[0], initial_node[1]]\n",
    "        while True:\n",
    "            directions = [self.up, self.down, self.left, self.right]\n",
    "            for direction in directions:\n",
    "                potential_node = direction(current_node)\n",
    "                if self.valid_node(potential_node, size_of_floor): # boundary checking\n",
    "                    if not visited[potential_node[0],potential_node[1]]: # check if we have visited this node before\n",
    "                        # update distance to node\n",
    "                        distance = distances[current_node[0], current_node[1]] + obstacles[potential_node[0],potential_node[1]]\n",
    "\n",
    "                        # update distance if it is the shortest discovered\n",
    "                        if distance < distances[potential_node[0],potential_node[1]]:\n",
    "                            distances[potential_node[0],potential_node[1]] = distance\n",
    "\n",
    "\n",
    "            # mark current node as visited\n",
    "            visited[current_node[0]  ,current_node[1]] = True\n",
    "\n",
    "            # select next node\n",
    "            # by choosing the the shortest path so far\n",
    "            t=distances.copy()\n",
    "            # we don't want to visit nodes that have already been visited\n",
    "            t[np.where(visited)]=np.inf\n",
    "            # choose the shortest path\n",
    "            node_index = np.argmin(t)\n",
    "\n",
    "            # convert index to row,col.\n",
    "            node_row = node_index//size_of_floor\n",
    "            node_col = node_index%size_of_floor\n",
    "            # update current node.\n",
    "            current_node = (node_row, node_col)\n",
    "\n",
    "            # stop if we have reached the desired node\n",
    "            if current_node[0] == desired_node[0] and current_node[1]==desired_node[1]:\n",
    "                break\n",
    "\n",
    "        # backtrack to construct path\n",
    "        return self.backtrack(initial_node,desired_node,distances)\n"
   ]
  },
  {
   "cell_type": "code",
   "execution_count": 145,
   "id": "e6686988",
   "metadata": {},
   "outputs": [],
   "source": [
    "class node:\n",
    "    def __init__(self,x,y,field):\n",
    "        self.cor = [x,y]\n",
    "        self.x = x\n",
    "        self.y = y\n",
    "        self.parents = self.get_parents(field)\n",
    "    \n",
    "    def get_parents(self,field):\n",
    "        \n",
    "        dire = [[1,0],[-1,0],[0,1],[0,-1]]\n",
    "        \n",
    "        parents = []\n",
    "        \n",
    "        for i in dire:\n",
    "            \n",
    "            possible_parent  = np.array(i) + np.array([self.x,self.y])\n",
    "            \n",
    "            if possible_parent[0]<field.shape[0] and possible_parent[1]<field.shape[1]:\n",
    "                \n",
    "                if possible_parent[0] >= 0 and possible_parent[1] >= 0: \n",
    "                    \n",
    "                    if field[possible_parent[0],possible_parent[1]] == 0: \n",
    "                \n",
    "                        parents.append(possible_parent)\n",
    "                \n",
    "            \n",
    "            \n",
    "        return parents"
   ]
  },
  {
   "cell_type": "code",
   "execution_count": 362,
   "id": "a25a1263",
   "metadata": {},
   "outputs": [],
   "source": [
    "class genetic:\n",
    "    \n",
    "    def __init__(self,field,start):\n",
    "        \n",
    "        self.field = field\n",
    "        \n",
    "        self.start = start\n",
    "        \n",
    "        self.shape = field.shape\n",
    "        \n",
    "        self.ch_min_size = self.get_ch_min_size()\n",
    "        \n",
    "        \n",
    "        pass\n",
    "    \n",
    "    def get_ch_min_size(self):\n",
    "        \n",
    "        num = 0\n",
    "        \n",
    "        for i  in range(self.shape[0]):\n",
    "            for t in range(self.shape[1]):\n",
    "                if self.field[i,t] ==0:\n",
    "                    num+=1\n",
    "        \n",
    "        return num\n",
    "        \n",
    "    def get_aleatory(self):\n",
    "        \n",
    "        p = node(x=self.start[0],y=self.start[1],field=self.field)\n",
    "        \n",
    "        self.ch_aleatory = []\n",
    "        \n",
    "        ch_size = random.randint(self.ch_min_size-3,self.ch_min_size+3)\n",
    "        \n",
    "        self.ch_aleatory.append(p)\n",
    "        \n",
    "        for i in range(ch_size):\n",
    "            \n",
    "            next_node = random.choice(p.parents)\n",
    "            \n",
    "            p = node(x=next_node[0],y=next_node[1],field=self.field)\n",
    "            \n",
    "            self.ch_aleatory.append(p) \n",
    "        \n",
    "        return self.ch_aleatory\n",
    "    \n",
    "    def fitness(self,ch):\n",
    "        overlaps = 0\n",
    "        \n",
    "        explore = 0\n",
    "        \n",
    "        path = []\n",
    "        \n",
    "        for i in ch:\n",
    "            \n",
    "            path.append(i.cor) \n",
    "        \n",
    "        for x in range(self.field.shape[0]):\n",
    "            \n",
    "            for y in range(self.field.shape[1]):\n",
    "                \n",
    "                if self.field[x,y] == 0: # espaco vazio\n",
    "                    \n",
    "                    count = path.count([x,y])\n",
    "                    \n",
    "                    if count > 0:\n",
    "                        \n",
    "                        overlaps = overlaps + count -1 \n",
    "                        \n",
    "                        explore += 1\n",
    "        \n",
    "        score = explore - overlaps\n",
    "                \n",
    "                    \n",
    "        return score\n",
    "            \n",
    "    def primeira_geracao(self,n):\n",
    "\n",
    "        primeira_geracao = []\n",
    "        \n",
    "        scores = []\n",
    "        \n",
    "        \n",
    "      \n",
    "        for i in range(n):\n",
    "            \n",
    "            novo_path = self.get_aleatory()\n",
    "            \n",
    "            primeira_geracao.append(novo_path)\n",
    "            \n",
    "            scores.append(self.fitness(novo_path))\n",
    "            \n",
    "            \n",
    "        print('primeira',len(primeira_geracao))\n",
    "        print('scores',len(scores))\n",
    "                \n",
    "        melhores_path = []\n",
    "        \n",
    "        melhores_scores = []\n",
    "        \n",
    "        for i in range(50):\n",
    "            \n",
    "            index = scores.index(max(scores))\n",
    "            \n",
    "            melhores_path.append(primeira_geracao[index])\n",
    "            \n",
    "            melhores_scores.append(scores[index])\n",
    "            \n",
    "            primeira_geracao.pop(index)\n",
    "            \n",
    "            scores.pop(index)\n",
    "            \n",
    "        \n",
    "        return melhores_path,melhores_scores\n",
    "    \n",
    "    def mutante(self,a):\n",
    "        \n",
    "        index = random.randint(1,len(a))\n",
    "        \n",
    "        novo_path = a[0:index]\n",
    "        \n",
    "        if index > self.ch_min_size:\n",
    "        \n",
    "            size = random.randint (index-3,index+3)\n",
    "            \n",
    "        else:\n",
    "            \n",
    "            size = random.randint(index,self.ch_min_size)\n",
    "        \n",
    "        p = node(x=novo_path[index][0],y=novo_path[index][1],field=self.field)\n",
    "        \n",
    "        for i in range(size):\n",
    "            \n",
    "            next_node = random.choice(p.parents)\n",
    "            \n",
    "            p = node(x=next_node[0],y=next_node[1],field=self.field)\n",
    "            \n",
    "            self.novo_path.append(p) \n",
    "            \n",
    "            \n",
    "        return novo_path   \n",
    "        \n",
    "    \n",
    "    def cross_over(self,a,b):\n",
    "        \n",
    "        pass\n",
    "            \n",
    "    \n",
    "    def genetic_algorithm(n_int):\n",
    "        \n",
    "        primeira_geracao,scores = primeira_geracao(n=1000)\n",
    "        \n",
    "        for i in n_int:\n",
    "            \n",
    "            pass"
   ]
  },
  {
   "cell_type": "code",
   "execution_count": 363,
   "id": "8417a983",
   "metadata": {},
   "outputs": [],
   "source": [
    "field = np.zeros((3,3))"
   ]
  },
  {
   "cell_type": "code",
   "execution_count": 364,
   "id": "4e13b409",
   "metadata": {},
   "outputs": [],
   "source": [
    "g = genetic(field=field,start=[0,0])"
   ]
  },
  {
   "cell_type": "code",
   "execution_count": 365,
   "id": "b9cd2018",
   "metadata": {},
   "outputs": [
    {
     "data": {
      "text/plain": [
       "(3, 3)"
      ]
     },
     "execution_count": 365,
     "metadata": {},
     "output_type": "execute_result"
    }
   ],
   "source": [
    "g.shape"
   ]
  },
  {
   "cell_type": "code",
   "execution_count": 366,
   "id": "bd592987",
   "metadata": {},
   "outputs": [
    {
     "data": {
      "text/plain": [
       "9"
      ]
     },
     "execution_count": 366,
     "metadata": {},
     "output_type": "execute_result"
    }
   ],
   "source": [
    "g.ch_min_size"
   ]
  },
  {
   "cell_type": "code",
   "execution_count": 367,
   "id": "90b0de18",
   "metadata": {},
   "outputs": [],
   "source": [
    "t = g.get_aleatory()"
   ]
  },
  {
   "cell_type": "code",
   "execution_count": 368,
   "id": "6a8ab227",
   "metadata": {},
   "outputs": [
    {
     "data": {
      "text/plain": [
       "3"
      ]
     },
     "execution_count": 368,
     "metadata": {},
     "output_type": "execute_result"
    }
   ],
   "source": [
    "g.fitness(t)"
   ]
  },
  {
   "cell_type": "code",
   "execution_count": 369,
   "id": "2988c26c",
   "metadata": {},
   "outputs": [
    {
     "ename": "ValueError",
     "evalue": "max() arg is an empty sequence",
     "output_type": "error",
     "traceback": [
      "\u001b[0;31m---------------------------------------------------------------------------\u001b[0m",
      "\u001b[0;31mValueError\u001b[0m                                Traceback (most recent call last)",
      "Cell \u001b[0;32mIn [369], line 1\u001b[0m\n\u001b[0;32m----> 1\u001b[0m path,scores \u001b[38;5;241m=\u001b[39m \u001b[43mg\u001b[49m\u001b[38;5;241;43m.\u001b[39;49m\u001b[43mprimeira_geracao\u001b[49m\u001b[43m(\u001b[49m\u001b[38;5;241;43m20\u001b[39;49m\u001b[43m)\u001b[49m\n",
      "Cell \u001b[0;32mIn [362], line 97\u001b[0m, in \u001b[0;36mgenetic.primeira_geracao\u001b[0;34m(self, n)\u001b[0m\n\u001b[1;32m     93\u001b[0m melhores_scores \u001b[38;5;241m=\u001b[39m []\n\u001b[1;32m     95\u001b[0m \u001b[38;5;28;01mfor\u001b[39;00m i \u001b[38;5;129;01min\u001b[39;00m \u001b[38;5;28mrange\u001b[39m(\u001b[38;5;241m50\u001b[39m):\n\u001b[0;32m---> 97\u001b[0m     index \u001b[38;5;241m=\u001b[39m scores\u001b[38;5;241m.\u001b[39mindex(\u001b[38;5;28;43mmax\u001b[39;49m\u001b[43m(\u001b[49m\u001b[43mscores\u001b[49m\u001b[43m)\u001b[49m)\n\u001b[1;32m     99\u001b[0m     melhores_path\u001b[38;5;241m.\u001b[39mappend(primeira_geracao[index])\n\u001b[1;32m    101\u001b[0m     melhores_scores\u001b[38;5;241m.\u001b[39mappend(scores[index])\n",
      "\u001b[0;31mValueError\u001b[0m: max() arg is an empty sequence"
     ]
    }
   ],
   "source": [
    "path,scores = g.primeira_geracao(20)"
   ]
  },
  {
   "cell_type": "code",
   "execution_count": 370,
   "id": "7bf96233",
   "metadata": {},
   "outputs": [
    {
     "data": {
      "text/plain": [
       "[7,\n",
       " 7,\n",
       " 7,\n",
       " 7,\n",
       " 7,\n",
       " 7,\n",
       " 7,\n",
       " 7,\n",
       " 7,\n",
       " 7,\n",
       " 7,\n",
       " 7,\n",
       " 7,\n",
       " 7,\n",
       " 7,\n",
       " 7,\n",
       " 7,\n",
       " 7,\n",
       " 7,\n",
       " 7,\n",
       " 7,\n",
       " 7,\n",
       " 7,\n",
       " 7,\n",
       " 7,\n",
       " 7,\n",
       " 7,\n",
       " 7,\n",
       " 7,\n",
       " 7,\n",
       " 7,\n",
       " 7,\n",
       " 7,\n",
       " 7,\n",
       " 7,\n",
       " 7,\n",
       " 7,\n",
       " 7,\n",
       " 7,\n",
       " 7,\n",
       " 7,\n",
       " 7,\n",
       " 7,\n",
       " 7,\n",
       " 7,\n",
       " 7,\n",
       " 7,\n",
       " 7,\n",
       " 7,\n",
       " 7]"
      ]
     },
     "execution_count": 370,
     "metadata": {},
     "output_type": "execute_result"
    }
   ],
   "source": [
    "scores"
   ]
  },
  {
   "cell_type": "code",
   "execution_count": 358,
   "id": "e19f17c0",
   "metadata": {},
   "outputs": [],
   "source": [
    "t = [1,2,3,4,5,6,7,8,9,10]"
   ]
  },
  {
   "cell_type": "code",
   "execution_count": 359,
   "id": "909dabb8",
   "metadata": {},
   "outputs": [
    {
     "data": {
      "text/plain": [
       "1"
      ]
     },
     "execution_count": 359,
     "metadata": {},
     "output_type": "execute_result"
    }
   ],
   "source": [
    "t.pop(0)"
   ]
  },
  {
   "cell_type": "code",
   "execution_count": 360,
   "id": "f08c0054",
   "metadata": {},
   "outputs": [
    {
     "data": {
      "text/plain": [
       "[2, 3, 4, 5, 6, 7, 8, 9, 10]"
      ]
     },
     "execution_count": 360,
     "metadata": {},
     "output_type": "execute_result"
    }
   ],
   "source": [
    "t"
   ]
  },
  {
   "cell_type": "code",
   "execution_count": 361,
   "id": "e938d2aa",
   "metadata": {},
   "outputs": [
    {
     "data": {
      "text/plain": [
       "3"
      ]
     },
     "execution_count": 361,
     "metadata": {},
     "output_type": "execute_result"
    }
   ],
   "source": [
    "t.pop(1)"
   ]
  },
  {
   "cell_type": "code",
   "execution_count": null,
   "id": "e6e4d1c0",
   "metadata": {},
   "outputs": [],
   "source": []
  }
 ],
 "metadata": {
  "kernelspec": {
   "display_name": "Python 2",
   "language": "python",
   "name": "python2"
  },
  "language_info": {
   "codemirror_mode": {
    "name": "ipython",
    "version": 3
   },
   "file_extension": ".py",
   "mimetype": "text/x-python",
   "name": "python",
   "nbconvert_exporter": "python",
   "pygments_lexer": "ipython3",
   "version": "3.10.6"
  }
 },
 "nbformat": 4,
 "nbformat_minor": 5
}
